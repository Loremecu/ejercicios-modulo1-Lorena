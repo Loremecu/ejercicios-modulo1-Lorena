{
 "cells": [
  {
   "attachments": {},
   "cell_type": "markdown",
   "metadata": {},
   "source": [
    "# **Ejercicios de pair programming Módulo 1**\n",
    "## **Lección 4**\n",
    "### **Diccionarios**\n",
    "\n",
    "---"
   ]
  },
  {
   "attachments": {},
   "cell_type": "markdown",
   "metadata": {},
   "source": [
    "En el *pair programming* de hoy trabajaremos con diccionarios. El objetivo es poner en práctica todos los métodos aprendidos hasta el momento. Para ello lo primero que haremos será construir un diccionario paso a paso. Nuestro diccionario estará compuesto por:\n",
    "\n",
    "- Cuatro *keys* que serán:\n",
    "    * nombres\n",
    "    * apellidos\n",
    "    * edades\n",
    "    * hijos  \n",
    "\n",
    "    Cada una de las keys tendrá un value que será una lista que iremos construyendo con inputs. Para crear los values seguid los pasos que os indicamos a continuación.\n"
   ]
  },
  {
   "attachments": {},
   "cell_type": "markdown",
   "metadata": {},
   "source": [
    "- Cread un *input* que pregunte a la usuaria por tres nombres. Almacenad el resultado en una lista. Esta lista será el *value* de la *key* `nombres`\n"
   ]
  },
  {
   "cell_type": "code",
   "execution_count": 1,
   "metadata": {},
   "outputs": [],
   "source": [
    "nombres = input(\"Introduzca tres nombres: \").split(\" \")\n",
    "#Usamos split() para convertir el str en una lista que me corta por los espacios\n"
   ]
  },
  {
   "attachments": {},
   "cell_type": "markdown",
   "metadata": {},
   "source": [
    "- Cread un *input* que pregunte a la usuaria por tres apellidos. Convertir el resultado en lista y este será el *value* de la *key* `apellidos`.\n"
   ]
  },
  {
   "cell_type": "code",
   "execution_count": 2,
   "metadata": {},
   "outputs": [],
   "source": [
    "apellidos = input(\"Introduzca tres apellidos: \").split(\" \")"
   ]
  },
  {
   "attachments": {},
   "cell_type": "markdown",
   "metadata": {},
   "source": [
    "- Cread un *input* que pregunte a la usuaria por tres edades. Almancenad los resultados en una lista. Esta lista será el *value* de la *key* `edades`.\n"
   ]
  },
  {
   "cell_type": "code",
   "execution_count": 3,
   "metadata": {},
   "outputs": [],
   "source": [
    "edades = input(\"Introduzca tres edades: \").split(\" \")"
   ]
  },
  {
   "attachments": {},
   "cell_type": "markdown",
   "metadata": {},
   "source": [
    "- Cread un *input* que pregunte a la usuaria por el número de hijos. Almacenad este resultado en una lista. Esta lista será el *value* de la *key* `hijos`.\n"
   ]
  },
  {
   "cell_type": "code",
   "execution_count": 4,
   "metadata": {},
   "outputs": [],
   "source": [
    "hijos = input(\"Introduzca cantidad de hijos: \").split(\" \")"
   ]
  },
  {
   "attachments": {},
   "cell_type": "markdown",
   "metadata": {},
   "source": [
    "- Cread un diccionario con los resultados del *input*. Al final de todos estos pasos deberíamos tener un diccionario similar a este:   \n",
    "```python\n",
    "  {'nombres': ['Lara', ' Alejandro', ' Ana'],\n",
    "    'apellidos': ['Lopez', ' Martin', ' Solo'],\n",
    "    'edades': [34, 20, 28],\n",
    "    'hijos': [2, 0, 1]}\n",
    "  ```\n"
   ]
  },
  {
   "cell_type": "code",
   "execution_count": 40,
   "metadata": {},
   "outputs": [],
   "source": [
    "#Para que los valores queden igual que en la tabla, necesitamos convertir los str a int. Para ello:\n",
    "#definimos de nuevo las variables:\n",
    "edades = [int(edades[0]), int(edades[1]), int(edades[2])]\n",
    "hijos = [int(hijos[0]), int(hijos[1]), int(hijos[2])]\n",
    "#ESTE PASO ES PRECISO REALIZARLO ANTES PARA EVITAR SOBRE ESCRIBIR Y QUE LOS VALORES NUEVOS SE PIERDAN."
   ]
  },
  {
   "cell_type": "code",
   "execution_count": 41,
   "metadata": {},
   "outputs": [
    {
     "data": {
      "text/plain": [
       "{'nombres': ['Lidya', 'Maitane', 'Lorena'],\n",
       " 'apellidos': ['Descals', 'Portilla', 'Mendoza'],\n",
       " 'edades': [34, 37, 28],\n",
       " 'hijos': [2, 0, 1]}"
      ]
     },
     "execution_count": 41,
     "metadata": {},
     "output_type": "execute_result"
    }
   ],
   "source": [
    "diccionario = {\"nombres\": nombres, \"apellidos\": apellidos, \"edades\": edades, \"hijos\": hijos}\n",
    "diccionario"
   ]
  },
  {
   "cell_type": "code",
   "execution_count": 42,
   "metadata": {},
   "outputs": [
    {
     "name": "stdout",
     "output_type": "stream",
     "text": [
      "[34, 37, 28]\n",
      "[2, 0, 1]\n"
     ]
    }
   ],
   "source": [
    "print(edades)\n",
    "print(hijos)"
   ]
  },
  {
   "attachments": {},
   "cell_type": "markdown",
   "metadata": {},
   "source": [
    "- Una vez tengáis creado el diccionario, añadid una nueva *key* donde tengamos la información sobre el número de hermanos.\n"
   ]
  },
  {
   "cell_type": "code",
   "execution_count": 44,
   "metadata": {},
   "outputs": [],
   "source": [
    "diccionario[\"hermanos\"] = [1, 15,1]\n",
    "#Mejor introducirlo directamente en int que en str."
   ]
  },
  {
   "attachments": {},
   "cell_type": "markdown",
   "metadata": {},
   "source": [
    "- ¿Cúales son las *keys* de nuestro diccionario? ¿Y los values?\n"
   ]
  },
  {
   "cell_type": "code",
   "execution_count": 45,
   "metadata": {},
   "outputs": [
    {
     "data": {
      "text/plain": [
       "dict_keys(['nombres', 'apellidos', 'edades', 'hijos', 'hermanos'])"
      ]
     },
     "execution_count": 45,
     "metadata": {},
     "output_type": "execute_result"
    }
   ],
   "source": [
    "diccionario.keys()"
   ]
  },
  {
   "cell_type": "code",
   "execution_count": 46,
   "metadata": {},
   "outputs": [
    {
     "data": {
      "text/plain": [
       "dict_values([['Lidya', 'Maitane', 'Lorena'], ['Descals', 'Portilla', 'Mendoza'], [34, 37, 28], [2, 0, 1], [1, 15, 1]])"
      ]
     },
     "execution_count": 46,
     "metadata": {},
     "output_type": "execute_result"
    }
   ],
   "source": [
    "diccionario.values()"
   ]
  },
  {
   "cell_type": "code",
   "execution_count": 47,
   "metadata": {},
   "outputs": [
    {
     "data": {
      "text/plain": [
       "{'nombres': ['Lidya', 'Maitane', 'Lorena'],\n",
       " 'apellidos': ['Descals', 'Portilla', 'Mendoza'],\n",
       " 'edades': [34, 37, 28],\n",
       " 'hijos': [2, 0, 1],\n",
       " 'hermanos': [1, 15, 1]}"
      ]
     },
     "execution_count": 47,
     "metadata": {},
     "output_type": "execute_result"
    }
   ],
   "source": [
    "diccionario"
   ]
  },
  {
   "attachments": {},
   "cell_type": "markdown",
   "metadata": {},
   "source": [
    "- Para extraer los *values* de una *key* podemos hacerlo de varias formas.\n",
    "    * Extraed los valores de la *key* nombres. Utilizad dos métodos diferentes."
   ]
  },
  {
   "cell_type": "code",
   "execution_count": null,
   "metadata": {},
   "outputs": [],
   "source": [
    "#ESTOS SON LOS DOS POSIBLES MÉTODOS A APLICAR PARA EXTRAER LOS VALUES DE LAS KEYS:\n",
    "#diccionario.get(\"nombres\")\n",
    "#diccionario [\"nombres\"]"
   ]
  },
  {
   "cell_type": "code",
   "execution_count": 14,
   "metadata": {},
   "outputs": [
    {
     "data": {
      "text/plain": [
       "['Lidya', 'Maitane', 'Lorena']"
      ]
     },
     "execution_count": 14,
     "metadata": {},
     "output_type": "execute_result"
    }
   ],
   "source": [
    "diccionario.get(\"nombres\")"
   ]
  },
  {
   "cell_type": "code",
   "execution_count": 15,
   "metadata": {},
   "outputs": [
    {
     "data": {
      "text/plain": [
       "['Lidya', 'Maitane', 'Lorena']"
      ]
     },
     "execution_count": 15,
     "metadata": {},
     "output_type": "execute_result"
    }
   ],
   "source": [
    "diccionario[\"nombres\"]"
   ]
  },
  {
   "attachments": {},
   "cell_type": "markdown",
   "metadata": {},
   "source": [
    "- Extraed los valores de la *key* nacionalidad. En caso de que no exista, cread esa *key* con el *value* \"desconocida\".\n"
   ]
  },
  {
   "cell_type": "code",
   "execution_count": 16,
   "metadata": {},
   "outputs": [
    {
     "data": {
      "text/plain": [
       "['desconocida']"
      ]
     },
     "execution_count": 16,
     "metadata": {},
     "output_type": "execute_result"
    }
   ],
   "source": [
    "diccionario.setdefault(\"nacionalidad\", [\"desconocida\"])\n",
    "#Este último dato se ha añadido, siendo de tipo lista, por intentar mantener la homogeneidad de la información\n",
    "#contenida en el diccionario"
   ]
  },
  {
   "attachments": {},
   "cell_type": "markdown",
   "metadata": {},
   "source": [
    "- Ordena los elementos del diccionario basandonos en las *keys* y los *values*. Esto nos devuelve una lista de tuplas(todavía no hemos visto este tipo de datos, pero lo veremos en la lección de mañana). Convertid esta lista de tuplas en diccionario.\n"
   ]
  },
  {
   "cell_type": "code",
   "execution_count": 17,
   "metadata": {},
   "outputs": [
    {
     "data": {
      "text/plain": [
       "[('apellidos', ['Descals', 'Portilla', 'Mendoza']),\n",
       " ('edades', ['34', '37', '28']),\n",
       " ('hermanos', ['2', '15', '1']),\n",
       " ('hijos', ['2', '0', '1']),\n",
       " ('nacionalidad', ['desconocida']),\n",
       " ('nombres', ['Lidya', 'Maitane', 'Lorena'])]"
      ]
     },
     "execution_count": 17,
     "metadata": {},
     "output_type": "execute_result"
    }
   ],
   "source": [
    "diccionario_tuplas = sorted(diccionario.items())\n",
    "diccionario_tuplas"
   ]
  },
  {
   "attachments": {},
   "cell_type": "markdown",
   "metadata": {},
   "source": [
    "- Eliminad la *key* de \"nacionalidad\"\n"
   ]
  },
  {
   "cell_type": "code",
   "execution_count": 18,
   "metadata": {},
   "outputs": [
    {
     "data": {
      "text/plain": [
       "{'nombres': ['Lidya', 'Maitane', 'Lorena'],\n",
       " 'apellidos': ['Descals', 'Portilla', 'Mendoza'],\n",
       " 'edades': ['34', '37', '28'],\n",
       " 'hijos': ['2', '0', '1'],\n",
       " 'hermanos': ['2', '15', '1']}"
      ]
     },
     "execution_count": 18,
     "metadata": {},
     "output_type": "execute_result"
    }
   ],
   "source": [
    "diccionario.pop(\"nacionalidad\")\n",
    "diccionario"
   ]
  },
  {
   "cell_type": "code",
   "execution_count": null,
   "metadata": {},
   "outputs": [],
   "source": [
    "hijos"
   ]
  },
  {
   "cell_type": "markdown",
   "metadata": {},
   "source": [
    "- Utilizando métodos de Python. ¿Qué persona tiene mayor nuúmero de hijos? ¿Y quién es la más joven?"
   ]
  },
  {
   "cell_type": "code",
   "execution_count": 58,
   "metadata": {},
   "outputs": [
    {
     "data": {
      "text/plain": [
       "'Lidya'"
      ]
     },
     "execution_count": 58,
     "metadata": {},
     "output_type": "execute_result"
    }
   ],
   "source": [
    "#Vamos a ir poco a poco: de fuera a dentro.\n",
    "#1º) acceder a los valores de hijos para así\n",
    "#2º) calcular el máximo,\n",
    "#3º) una vez calculado el máximo, sacamos su índice para averiguar la posición en la que se encuentra\n",
    "#3º) de forma correlativa, aplicando el índice, podremos averiguar la persona que tiene mayor número de hijos\n",
    "diccionario.get(\"hijos\")\n",
    "max(diccionario[\"hijos\"])\n",
    "diccionario[\"hijos\"].index(max(diccionario[\"hijos\"]))\n",
    "diccionario[\"nombres\"][diccionario[\"hijos\"].index(max(diccionario[\"hijos\"]))]"
   ]
  },
  {
   "cell_type": "code",
   "execution_count": 59,
   "metadata": {},
   "outputs": [
    {
     "data": {
      "text/plain": [
       "'Lorena'"
      ]
     },
     "execution_count": 59,
     "metadata": {},
     "output_type": "execute_result"
    }
   ],
   "source": [
    "#diccionario.get(\"hijos\")\n",
    "#max(diccionario[\"hijos\"])\n",
    "#diccionario[\"hijos\"].index(max(diccionario[\"hijos\"]))\n",
    "diccionario[\"nombres\"][diccionario[\"edades\"].index(min(diccionario[\"edades\"]))]\n",
    "\n",
    "#los diccionarios pueden estar compuestos por listas y en estos casos los valores \"edades\" e \"hijos\" son listas\n",
    "#De ahí que para acceder a ellos y a su información necesitemos métodos de listas"
   ]
  }
 ],
 "metadata": {
  "kernelspec": {
   "display_name": "adalabenv",
   "language": "python",
   "name": "python3"
  },
  "language_info": {
   "codemirror_mode": {
    "name": "ipython",
    "version": 3
   },
   "file_extension": ".py",
   "mimetype": "text/x-python",
   "name": "python",
   "nbconvert_exporter": "python",
   "pygments_lexer": "ipython3",
   "version": "3.10.9"
  },
  "orig_nbformat": 4,
  "vscode": {
   "interpreter": {
    "hash": "0b8bbabd87d3ce636409443d1398e5656bf795e33c753b5e821c4b969f4e6c41"
   }
  }
 },
 "nbformat": 4,
 "nbformat_minor": 2
}
