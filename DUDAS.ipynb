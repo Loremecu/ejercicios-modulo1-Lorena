{
 "cells": [
  {
   "attachments": {},
   "cell_type": "markdown",
   "metadata": {},
   "source": [
    "## TUPLAS"
   ]
  },
  {
   "attachments": {},
   "cell_type": "markdown",
   "metadata": {},
   "source": [
    " Crea las variables `peso`, `altura`, `color`, `camiseta`, `pantalon`, y `zapatos` y llénalas con el contenido de `persona1`. Imprime `camiseta` para comprobar el resultado.\n",
    "\n",
    " --> a qué te refieres con llénalas? a mano, con métodos?\n",
    "\n",
    "  10. Crea las variables `peso`, `altura`, `color`, `ropa`, y `zapatos` y llénalas con el contenido adecuado de `persona1`. Imprime `ropa` para comprobar el resultado.\n",
    "  \n",
    "  11. Intenta sobreescribir las variables del ejercicio 9. con el contenido de `persona2`, ¿te sale? \n",
    "   --> las tuplas no se pueden sobreescribir ni modificar una vez creadas,son inmutables.\n",
    "   --> si queremos modificar, hay que convertirlas a listas para ello.\n",
    "---"
   ]
  },
  {
   "attachments": {},
   "cell_type": "markdown",
   "metadata": {},
   "source": [
    "Copiar, borrar elementos\n",
    "\n",
    "  8. Define el set `enero` para que sea igual a `diciembre`.\n",
    "\n",
    "  9. Quita las temperaturas `17`, y `18` de `enero`.\n",
    "\n",
    "- Tamaño de un set\n",
    "\n",
    "  10. ¿Cuántas temperaturas distintas había en diciembre?\n",
    "  \n",
    "  11. ¿Y cuántas en enero?"
   ]
  },
  {
   "cell_type": "code",
   "execution_count": null,
   "metadata": {},
   "outputs": [],
   "source": [
    "diciembre = {10, 11, 12, 13, 14, 15, 16, 17, 18}"
   ]
  },
  {
   "attachments": {},
   "cell_type": "markdown",
   "metadata": {},
   "source": [
    " 5. Define  la variable `doce = '12'` y `seis = 6`. Intenta sumarlos. En el caso de que te salga un error imprime `'¡Un error!'`. Para eso usa un `try` ... `except`"
   ]
  },
  {
   "cell_type": "code",
   "execution_count": null,
   "metadata": {},
   "outputs": [],
   "source": [
    "doce = 'doce'\n",
    "seis = 6\n",
    "try:\n",
    "    suma = doce + seis\n",
    "except TypeError:\n",
    "    print(\"Ups, un error\")"
   ]
  },
  {
   "attachments": {},
   "cell_type": "markdown",
   "metadata": {},
   "source": [
    "6. Basándonos en el ejercicio anterior, sin usar un `try` ... `except`, ¿cómo podríamos solucionar el problema? \n",
    "    "
   ]
  },
  {
   "cell_type": "code",
   "execution_count": null,
   "metadata": {},
   "outputs": [],
   "source": [
    "#convirtiendo el str a int\n",
    "nuevo_doce = int(doce)"
   ]
  },
  {
   "attachments": {},
   "cell_type": "markdown",
   "metadata": {},
   "source": [
    "7. En el ejercicio 2, usamos un `try` ... `except` para solucionar el ejercicio. ¿Cómo lo podríamos hacer un if? \n"
   ]
  },
  {
   "cell_type": "code",
   "execution_count": null,
   "metadata": {},
   "outputs": [],
   "source": [
    "saludo = \"Hello\"\n",
    "saludo1 = list(saludo)\n",
    "\n",
    "for l in saludo1:\n",
    "    if l == \"l\":\n",
    "        pass\n",
    "    \n",
    "    else:\n",
    "        print(f\"{l} forma parte de {saludo}\")"
   ]
  },
  {
   "attachments": {},
   "cell_type": "markdown",
   "metadata": {},
   "source": [
    "# Ejercicios: list comprehensions\n",
    "\n",
    "- *List comprehensions* sin filtrar\n",
    "\n",
    "  Dada la siguiente lista de números\n",
    "\n",
    "  ```python\n",
    "  lista = [2,45,67,23, 45,66,12,1,34,67,99,98,67,64, 44, 100]\n",
    "  ```\n",
    "\n",
    "  10. Cread una lista nueva donde tengamos los números de la lista `lista` elevados al cuadrado. \n",
    "  11. Cread una lista nueva donde tengamos el resto de la división de cada uno de los números entre 2.  \n",
    "\n",
    "- *List comprehensions* filtradas\n",
    "\n",
    "  12. Cread una lista nueva donde tengamos solo los elementos pares de la lista `lista`. \n",
    "  13. Cread una lista nueva donde tengamos solo los elementos que sean menores que 50. \n",
    "\n",
    "- *List comprehensions* con *if* - *else* \n",
    "\n",
    "  14. Cread una lista donde tengamos los valores \"par\" e \"impar\" en función de los valores de la lista original. "
   ]
  },
  {
   "attachments": {},
   "cell_type": "markdown",
   "metadata": {},
   "source": [
    "ada la siguinte lista de números:\n",
    "\n",
    "```python\n",
    "numbers = [12, 75, 150, 180, 145, 525, 50]\n",
    "```\n",
    "\n",
    " - Escribid un programa que muestre sólo los números de una lista que cumplan las siguientes condiciones:\n",
    "    - El número debe ser divisible entre cinco\n",
    "    - Si el número es mayor que 150, se salta y se pasa al siguiente número\n",
    "    - Si el número es mayor que 500, entonces detenga el bucle"
   ]
  },
  {
   "cell_type": "code",
   "execution_count": null,
   "metadata": {},
   "outputs": [],
   "source": [
    "#SIN TERMINAR\n",
    "numeros = [12, 75, 150, 180, 145, 525, 50]\n",
    "\n",
    "for num in numeros:\n",
    "    if num > 150:\n",
    "        continue\n",
    "    elif num > 500:\n",
    "        break\n",
    "    elif num % 5 == 0:\n",
    "        print(num)"
   ]
  },
  {
   "attachments": {},
   "cell_type": "markdown",
   "metadata": {},
   "source": [
    "## Ejercicios: Condiciones múltiples\n",
    "30. Escribir un programa para una empresa que tiene salas de juegos para todas las edades y quiere calcular de forma automática el precio que debe cobrar a sus clientes por entrar. El programa debe preguntar al usuario:\n",
    "\n",
    "    - La edad del cliente. \n",
    "\n",
    "31. Las condiciones que tendremos que chequear: \n",
    "    - Si el cliente es menor de 4 años puede entrar gratis, \n",
    "    - Si tiene entre 4 y 18 años debe pagar 5€ y \n",
    "    - Si es mayor de 18 años, 10€."
   ]
  },
  {
   "cell_type": "code",
   "execution_count": null,
   "metadata": {},
   "outputs": [],
   "source": [
    "edad_cliente1 = int(input(\"Diga su edad\"))\n",
    "print(edad_cliente1)\n",
    "\n",
    "if edad_cliente1 < 4:\n",
    "    print(\"Puede entrar gratis\")\n",
    "\n",
    "elif 4 >= edad_cliente1 < 18:\n",
    "    print(\"Debe pagar 5 euros\")\n",
    "\n",
    "elif edad_cliente1 > 18:\n",
    "    print(\"Debe pagar 10 euros\")\n",
    "\n",
    "# el resultado con 4, sale bien, pero después si meto cualquier otro input solo se me imprime la edad, por qué?"
   ]
  },
  {
   "attachments": {},
   "cell_type": "markdown",
   "metadata": {},
   "source": [
    "gandalf = [10, 11, 13, 30, 22, 11, 10, 33, 22, 22]\n",
    "\n",
    "saruman = [23, 66, 12, 43, 12, 10, 44, 23, 12, 17]"
   ]
  },
  {
   "cell_type": "code",
   "execution_count": 1,
   "metadata": {},
   "outputs": [],
   "source": [
    "gandalf = [10, 11, 13, 30, 22, 11, 10, 33, 22, 22]\n",
    "\n",
    "saruman = [23, 66, 12, 43, 12, 10, 44, 23, 12, 17]"
   ]
  },
  {
   "cell_type": "code",
   "execution_count": null,
   "metadata": {},
   "outputs": [],
   "source": [
    "for i in zip(gandalf, saruman):\n",
    "    print(i)"
   ]
  }
 ],
 "metadata": {
  "kernelspec": {
   "display_name": "adalabenv",
   "language": "python",
   "name": "python3"
  },
  "language_info": {
   "codemirror_mode": {
    "name": "ipython",
    "version": 3
   },
   "file_extension": ".py",
   "mimetype": "text/x-python",
   "name": "python",
   "nbconvert_exporter": "python",
   "pygments_lexer": "ipython3",
   "version": "3.10.9"
  },
  "orig_nbformat": 4,
  "vscode": {
   "interpreter": {
    "hash": "0b8bbabd87d3ce636409443d1398e5656bf795e33c753b5e821c4b969f4e6c41"
   }
  }
 },
 "nbformat": 4,
 "nbformat_minor": 2
}
